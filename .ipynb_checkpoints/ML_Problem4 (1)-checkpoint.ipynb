{
 "cells": [
  {
   "cell_type": "markdown",
   "metadata": {},
   "source": [
    "# Machine Learning Problem 4\n"
   ]
  },
  {
   "cell_type": "code",
   "execution_count": 1,
   "metadata": {},
   "outputs": [],
   "source": [
    "import pandas as pd\n",
    "import numpy as np\n",
    "import matplotlib.pyplot as plt\n",
    "import matplotlib\n",
    "import progressbar"
   ]
  },
  {
   "cell_type": "markdown",
   "metadata": {},
   "source": [
    "## Problem 4"
   ]
  },
  {
   "cell_type": "code",
   "execution_count": 2,
   "metadata": {},
   "outputs": [
    {
     "data": {
      "text/html": [
       "<div>\n",
       "<style scoped>\n",
       "    .dataframe tbody tr th:only-of-type {\n",
       "        vertical-align: middle;\n",
       "    }\n",
       "\n",
       "    .dataframe tbody tr th {\n",
       "        vertical-align: top;\n",
       "    }\n",
       "\n",
       "    .dataframe thead th {\n",
       "        text-align: right;\n",
       "    }\n",
       "</style>\n",
       "<table border=\"1\" class=\"dataframe\">\n",
       "  <thead>\n",
       "    <tr style=\"text-align: right;\">\n",
       "      <th></th>\n",
       "      <th>x</th>\n",
       "      <th>y</th>\n",
       "    </tr>\n",
       "  </thead>\n",
       "  <tbody>\n",
       "    <tr>\n",
       "      <th>0</th>\n",
       "      <td>-0.889238</td>\n",
       "      <td>-0.334713</td>\n",
       "    </tr>\n",
       "    <tr>\n",
       "      <th>1</th>\n",
       "      <td>0.532539</td>\n",
       "      <td>0.898156</td>\n",
       "    </tr>\n",
       "  </tbody>\n",
       "</table>\n",
       "</div>"
      ],
      "text/plain": [
       "          x         y\n",
       "0 -0.889238 -0.334713\n",
       "1  0.532539  0.898156"
      ]
     },
     "execution_count": 2,
     "metadata": {},
     "output_type": "execute_result"
    }
   ],
   "source": [
    "# Precious data\n",
    "sicodata = pd.read_csv('siCoData.csv')\n",
    "sicodata.head(2)"
   ]
  },
  {
   "cell_type": "code",
   "execution_count": 3,
   "metadata": {},
   "outputs": [],
   "source": [
    "# Creating X, Y data\n",
    "X = pd.concat([ pd.Series([1]*sicodata.shape[0]), sicodata.iloc[:,0]], 1)  \n",
    "Y = sicodata.iloc[:,1]"
   ]
  },
  {
   "cell_type": "code",
   "execution_count": null,
   "metadata": {},
   "outputs": [
    {
     "name": "stderr",
     "output_type": "stream",
     "text": [
      " 13% (135 of 1000) |##                   | Elapsed Time: 0:00:14 ETA:   0:01:41"
     ]
    }
   ],
   "source": [
    "progress = progressbar.ProgressBar()\n",
    "\n",
    "\"\"\"\n",
    "Begin Neural Network\n",
    "\"\"\"\n",
    "\n",
    "# error at every epoch\n",
    "error_epoch = []\n",
    "\n",
    "# all errors\n",
    "error_all = []\n",
    "\n",
    "# All weights\n",
    "\n",
    "w1_01_all = []\n",
    "w1_02_all = []\n",
    "\n",
    "w1_11_all = []\n",
    "w1_12_all = []\n",
    "\n",
    "w2_0_all = []\n",
    "w2_1_all = []\n",
    "w2_2_all = []\n",
    "\n",
    "# initialize weights of layer 1 \n",
    "W1 = np.array([[0.5,0.5],  # W1_01, W1_02 \n",
    "              [0.5,0.3]])  # W1_11, W1_12\n",
    "\n",
    "# weights of the output layer\n",
    "W2 =  np.array([0.2,0.5,0.5])\n",
    "\n",
    "\n",
    "# Predictions using final weights\n",
    "Yhat = []\n",
    "\n",
    "for epoch_run in progress(range(1000)): # Will never run till 10K\n",
    "    \n",
    "    # In same error\n",
    "    in_sample_error = []\n",
    "    \n",
    "    \n",
    "    for i in range(sicodata.shape[0]):\n",
    "                    \n",
    "        # First Layer ---------------------\n",
    "\n",
    "            # Get the Z values of layer 1\n",
    "        Z1 = np.dot(W1.T,X.values[i].T )\n",
    "\n",
    "            # Apply activation function of layer 1\n",
    "        A = np.tanh(Z1)\n",
    "       # dimensions: 1x1 \n",
    "    \n",
    "        A1 = np.append(1,A) \n",
    "\n",
    "        #Second Layer--------------------\n",
    "\n",
    "            # Get the Z values of layer 2\n",
    "        Z2 =  np.dot(W2.T, A1.T)  # Appending the bias to output of layer 1 here\n",
    "\n",
    "            # Do not apply activation function for the last layer\n",
    "        A2 = Z2 \n",
    "               \n",
    "         #Error--------------------------    \n",
    "        #error1 = nn_error(Y[i],A2)\n",
    "        error = (A2-Y[i])**2\n",
    "                \n",
    "        #Backpropogation------------- \n",
    "\n",
    "            # Derive Derivatives\n",
    "\n",
    "        alpha = 0.005\n",
    "        \n",
    "        # Update weights----------------------    \n",
    "\n",
    "        W1[0][0] = W1[0][0] - (alpha *((2*(A2-Y[i])) * (W2[1]) * (1- (A1[1]**2)) * X.values[i][0])) # First weight of first layer first node\n",
    "        W1[0][1] = W1[0][1] - (alpha *((2*(A2-Y[i])) * (W2[2]) * (1- (A1[2]**2)) * X.values[i][0])) # second weight of second layer first tnode\n",
    "\n",
    "\n",
    "        W1[1][0] = W1[1][0] - (alpha *((2*(A2-Y[i])) * (W2[1]) * (1- (A1[1]**2)) * X.values[i][1])) # First weight of first layer second node\n",
    "        W1[1][1] = W1[1][1] - (alpha *((2*(A2-Y[i])) * (W2[2]) * (1- (A1[2]**2)) * X.values[i][1])) # second weight of second layer second node\n",
    "\n",
    "        \n",
    "        # Update layer 2 weights\n",
    "        W2[0] = W2[0] - (alpha*((2*(A2-Y[i])) * (A1[0])))  # FIRST weight of second layer \n",
    "        W2[1] = W2[1] - (alpha*((2*(A2-Y[i])) * (A1[1])))  # Second weight of the second layer\n",
    "        W2[2] = W2[2] - (alpha*((2*(A2-Y[i])) * (A1[2])))  # third weight of the second layer\n",
    "                    \n",
    "        \n",
    "        # append every error\n",
    "        in_sample_error.append(error)\n",
    "        \n",
    "                        \n",
    "    # append error at the end of each epoch\n",
    "    error_epoch.append(error)\n",
    "            \n",
    "    # append weights at the end of every epoch\n",
    "    w1_01_all.append(W1[0][0]), w1_02_all.append(W1[0][1]), w1_11_all.append(W1[1][0]), w1_12_all.append(W1[1][1]), w2_0_all.append(W2[0]), w2_1_all.append(W2[1]), w2_2_all.append(W2[2])\n",
    "\n",
    "    # Break on mean sample error or if the epoch limit is maximized\n",
    "    if np.mean(in_sample_error) < 0.02:\n",
    "        break\n"
   ]
  },
  {
   "cell_type": "code",
   "execution_count": null,
   "metadata": {},
   "outputs": [],
   "source": [
    "#check if the break criteria worked. Should be below 0.02\n",
    "(np.mean(in_sample_error))"
   ]
  },
  {
   "cell_type": "markdown",
   "metadata": {},
   "source": [
    "## Plotting"
   ]
  },
  {
   "cell_type": "code",
   "execution_count": null,
   "metadata": {},
   "outputs": [],
   "source": [
    "# Plotting the Error and every Epoch and the weights\n",
    "\n",
    "plt.figure(num=None, figsize=(12, 12), dpi=80, facecolor='w', edgecolor='k')\n",
    "\n",
    "\n",
    "plt.subplot(2,2,1)\n",
    "plt.title('Error at every epoch')\n",
    "plt.plot(error_epoch)\n",
    "\n",
    "plt.subplot(2,2,2)\n",
    "plt.title('All weights at each epoch')\n",
    "for x,y in zip([w1_01_all, w1_02_all, w1_11_all, w1_12_all,   w2_0_all,    w2_1_all,   w2_2_all ], ['w101', 'w102', 'w111', 'w112','w112', 'w22' ]):\n",
    "    plt.plot(x, label = '{}'.format(y))\n",
    "    \n",
    "plt.legend() ;"
   ]
  },
  {
   "cell_type": "code",
   "execution_count": null,
   "metadata": {},
   "outputs": [],
   "source": [
    "# prediction\n",
    "\n",
    "def preds(X):\n",
    "    \n",
    "    all_preds = []\n",
    "    \n",
    "    for i in range(X.shape[0]):\n",
    "    \n",
    "\n",
    "        W1 = np.array([[w1_01_all[-1],w1_02_all[-1]],                        \n",
    "                      [w1_11_all[-1],w1_12_all[-1]]])\n",
    "        \n",
    "#        print (W1)\n",
    "                       \n",
    "        W2 = np.array([w2_0_all[-1],w2_1_all[-1], w2_2_all[-1]]) \n",
    "\n",
    "        Z1 = np.dot(W1.T, X.values[i].T)\n",
    "\n",
    "            # Apply activation function of layer 1\n",
    "        A = np.tanh(Z1)        \n",
    "\n",
    "        A1 = np.append(1,A) \n",
    "\n",
    "        #Second Layer--------------------\n",
    "\n",
    "            # Get the Z values of layer 2\n",
    "        Z2 =  np.dot(W2, A1.T)  # Appending the bias to output of layer 1 here\n",
    "\n",
    "            # Do not apply activation function for the last layer\n",
    "        all_preds.append(Z2)\n",
    "    return all_preds\n"
   ]
  },
  {
   "cell_type": "code",
   "execution_count": null,
   "metadata": {},
   "outputs": [],
   "source": [
    "def plotme():\n",
    "    plt.figure(figsize=(15,10))\n",
    "\n",
    "    plt.subplot(2,2,1)\n",
    "    # plotting original data\n",
    "    plt.scatter(sicodata.iloc[:,0],sicodata.iloc[:,1] ,label= 'True Values')\n",
    "    plt.legend()\n",
    "    plt.xlabel('X values')\n",
    "    plt.ylabel('True values')\n",
    "\n",
    "    plt.subplot(2,2,2)\n",
    "    # plotting predicted data\n",
    "    plt.scatter(sicodata.iloc[:,0],preds(X), c = 'red', label = 'Predictions')\n",
    "    plt.legend()\n",
    "    plt.xlabel('X values')\n",
    "    plt.ylabel('Predicted values')\n",
    "\n",
    "\n",
    "    plt.figure(figsize=(20,10))\n",
    "    # plotting predicted data\n",
    "    plt.scatter(sicodata.iloc[:,0],sicodata.iloc[:,1] ,label= 'True Values')\n",
    "    plt.scatter(sicodata.iloc[:,0],preds(X), c = 'red', label = 'Predictions')\n",
    "    plt.legend()\n",
    "    plt.xlabel('X values')\n",
    "\n",
    "plotme()"
   ]
  }
 ],
 "metadata": {
  "kernelspec": {
   "display_name": "Python 3",
   "language": "python",
   "name": "python3"
  },
  "language_info": {
   "codemirror_mode": {
    "name": "ipython",
    "version": 3
   },
   "file_extension": ".py",
   "mimetype": "text/x-python",
   "name": "python",
   "nbconvert_exporter": "python",
   "pygments_lexer": "ipython3",
   "version": "3.6.6"
  }
 },
 "nbformat": 4,
 "nbformat_minor": 2
}
